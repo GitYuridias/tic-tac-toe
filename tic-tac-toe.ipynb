{
 "cells": [
  {
   "cell_type": "code",
   "execution_count": null,
   "metadata": {},
   "outputs": [],
   "source": [
    "# import packages\n",
    "from IPython.display import clear_output\n",
    "import random"
   ]
  },
  {
   "cell_type": "markdown",
   "metadata": {},
   "source": [
    "**Step 1: Write a function that can print out a board. Set up your board as a list, where each index 1-9 corresponds with a number on a number pad, so you get a 3 by 3 board representation.**"
   ]
  },
  {
   "cell_type": "code",
   "execution_count": null,
   "metadata": {},
   "outputs": [],
   "source": [
    "def display_board(board):\n",
    "    clear_output()\n",
    "    print(board[7]+'|'+board[8]+'|'+board[9])\n",
    "    print('-----')\n",
    "    print(board[4]+'|'+board[5]+'|'+board[6])\n",
    "    print('-----')\n",
    "    print(board[1]+'|'+board[2]+'|'+board[3])"
   ]
  },
  {
   "cell_type": "markdown",
   "metadata": {},
   "source": [
    "**Step 2: Write a function that can take in a player input and assign their marker as 'X' or 'O'. Think about using *while* loops to continually ask until you get a correct answer.**"
   ]
  },
  {
   "cell_type": "code",
   "execution_count": null,
   "metadata": {},
   "outputs": [],
   "source": [
    "def player_input():\n",
    "    \n",
    "    marker = ''\n",
    "    acceptable_range = ('X', 'O')\n",
    "    within_range = False\n",
    "    \n",
    "    while within_range == False:\n",
    "        marker = input(\"Player 1, choose X or O: \")\n",
    "        \n",
    "        if marker in acceptable_range:\n",
    "            within_range = True\n",
    "        else:\n",
    "            print('X or O only, thanks!')\n",
    "    player1 = marker\n",
    "\n",
    "    if player1 == 'X':\n",
    "        player2 ='O'\n",
    "    else:\n",
    "        player2 ='X'\n",
    "        \n",
    "    return player1, player2"
   ]
  },
  {
   "cell_type": "markdown",
   "metadata": {},
   "source": [
    "**Step 3: Write a function that takes in the board list object, a marker ('X' or 'O'), and a desired position (number 1-9) and assigns it to the board.**"
   ]
  },
  {
   "cell_type": "code",
   "execution_count": null,
   "metadata": {},
   "outputs": [],
   "source": [
    "def place_marker(board, marker, position):\n",
    "    board[position] = marker"
   ]
  },
  {
   "cell_type": "markdown",
   "metadata": {},
   "source": [
    "**Step 4: Write a function that takes in a board and a mark (X or O) and then checks to see if that mark has won.**"
   ]
  },
  {
   "cell_type": "code",
   "execution_count": null,
   "metadata": {},
   "outputs": [],
   "source": [
    "def win_check(board, marker):\n",
    "\n",
    "    win_criteria = [[1,2,3],[4,5,6],[7,8,9],[1,4,7],[2,5,8],[3,6,9],[1,5,9],[3,5,7]]\n",
    "    win = False\n",
    "    \n",
    "    for criteria in win_criteria:\n",
    "        check = [board[i] for i in criteria]\n",
    "        \n",
    "        if check == [marker] * 3:\n",
    "            win = True\n",
    "            return win\n",
    "    \n",
    "    return win"
   ]
  },
  {
   "cell_type": "markdown",
   "metadata": {},
   "source": [
    "**Step 5: Write a function that uses the random module to randomly decide which player goes first. You may want to lookup random.randint() Return a string of which player went first.**"
   ]
  },
  {
   "cell_type": "code",
   "execution_count": null,
   "metadata": {},
   "outputs": [],
   "source": [
    "def choose_first():\n",
    "    player = random.randint(1,2)\n",
    "    print(f'Player {player}, please go first.')\n",
    "    \n",
    "    return player"
   ]
  },
  {
   "cell_type": "markdown",
   "metadata": {},
   "source": [
    "**Step 6: Write a function that returns a boolean indicating whether a space on the board is freely available.**"
   ]
  },
  {
   "cell_type": "code",
   "execution_count": null,
   "metadata": {},
   "outputs": [],
   "source": [
    "def space_check(board, position):\n",
    "    \n",
    "    return board[position] == ' '"
   ]
  },
  {
   "cell_type": "markdown",
   "metadata": {},
   "source": [
    "**Step 7: Write a function that checks if the board is full and returns a boolean value. True if full, False otherwise.**"
   ]
  },
  {
   "cell_type": "code",
   "execution_count": null,
   "metadata": {},
   "outputs": [],
   "source": [
    "def full_board_check(board):\n",
    "    \n",
    "    return ' ' not in board"
   ]
  },
  {
   "cell_type": "markdown",
   "metadata": {},
   "source": [
    "**Step 8: Write a function that asks for a player's next position (as a number 1-9) and then uses the function from step 6 to check if it's a free position. If it is, then return the position for later use.**"
   ]
  },
  {
   "cell_type": "code",
   "execution_count": null,
   "metadata": {},
   "outputs": [],
   "source": [
    "def player_choice(board):\n",
    "    \n",
    "    position = 'WRONG'\n",
    "    acceptable_range = range(1,10)\n",
    "    accepted = False\n",
    "    \n",
    "    while position.isdigit() == False or accepted == False:\n",
    "        position = input('Choose your next position: (1-9)')\n",
    "        \n",
    "        if position.isdigit() == False:\n",
    "            print('Please choose a number!')\n",
    "        \n",
    "        else:\n",
    "            if int(position) in acceptable_range:\n",
    "            \n",
    "                if space_check(board, int(position)):\n",
    "                    accepted = True\n",
    "                \n",
    "                else:\n",
    "                    print ('Please choose a free position!')\n",
    "                             \n",
    "            else:\n",
    "                print('Please choose a number in range (1-9)!')\n",
    "    \n",
    "    return int(position)"
   ]
  },
  {
   "cell_type": "markdown",
   "metadata": {},
   "source": [
    "**Step 9: Write a function that asks the player if they want to play again and returns a boolean True if they do want to play again.**"
   ]
  },
  {
   "cell_type": "code",
   "execution_count": null,
   "metadata": {},
   "outputs": [],
   "source": [
    "def replay():\n",
    "    \n",
    "    play = 'WRONG'\n",
    "    acceptable_range = ('Yes', 'No')\n",
    "    \n",
    "    while play not in acceptable_range:\n",
    "        play = input('Do you want to play again? Enter Yes or No: ')\n",
    "    \n",
    "        if play == 'Yes':\n",
    "            return True\n",
    "        \n",
    "        elif play == 'No':\n",
    "            return False\n",
    "        \n",
    "        else:\n",
    "            print('Please enter Yes or No!')"
   ]
  },
  {
   "cell_type": "markdown",
   "metadata": {},
   "source": [
    "**Step 10: Here comes the hard part! Use while loops and the functions you've made to run the game!**"
   ]
  },
  {
   "cell_type": "code",
   "execution_count": null,
   "metadata": {},
   "outputs": [],
   "source": [
    "print('Welcome to Tic Tac Toe!')\n",
    "\n",
    "game_on = True\n",
    "\n",
    "while game_on:\n",
    "    \n",
    "    board = ['#']+[' ']*9\n",
    "    \n",
    "    display_board(board)\n",
    "    \n",
    "    player1, player2 = player_input()\n",
    "\n",
    "    player = choose_first()\n",
    "    \n",
    "    while not full_board_check(board):\n",
    "        \n",
    "        winner = False\n",
    "        \n",
    "        position = player_choice(board)\n",
    "        \n",
    "        if player == 1:\n",
    "            place_marker(board, player1, position)\n",
    "            display_board(board)\n",
    "            \n",
    "            if win_check(board, player1):\n",
    "                winner = True\n",
    "                print('Congratulations, you win!')\n",
    "                break\n",
    "                \n",
    "            else:\n",
    "                player = 2\n",
    "            \n",
    "        else:\n",
    "            place_marker(board, player2, position)\n",
    "            display_board(board)\n",
    "            \n",
    "            if win_check(board, player2):\n",
    "                winner = True \n",
    "                print('Congratulations, you win!')\n",
    "                break\n",
    "                \n",
    "            else:\n",
    "                player = 1\n",
    "            \n",
    "        if win_check(board, player):\n",
    "            print('Congratulations, you win!')\n",
    "            break\n",
    "            \n",
    "    if not winner: \n",
    "        print('Okay, no one wins!')\n",
    "\n",
    "    game_on = replay()"
   ]
  }
 ],
 "metadata": {
  "kernelspec": {
   "display_name": "Python 3",
   "language": "python",
   "name": "python3"
  },
  "language_info": {
   "codemirror_mode": {
    "name": "ipython",
    "version": 3
   },
   "file_extension": ".py",
   "mimetype": "text/x-python",
   "name": "python",
   "nbconvert_exporter": "python",
   "pygments_lexer": "ipython3",
   "version": "3.7.6"
  },
  "toc": {
   "base_numbering": 1,
   "nav_menu": {},
   "number_sections": true,
   "sideBar": true,
   "skip_h1_title": false,
   "title_cell": "Table of Contents",
   "title_sidebar": "Contents",
   "toc_cell": false,
   "toc_position": {},
   "toc_section_display": true,
   "toc_window_display": false
  }
 },
 "nbformat": 4,
 "nbformat_minor": 4
}
